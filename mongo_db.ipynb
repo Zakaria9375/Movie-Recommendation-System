{
 "cells": [
  {
   "cell_type": "code",
   "execution_count": null,
   "metadata": {},
   "outputs": [],
   "source": [
    "from pymongo import MongoClient\n",
    "import os\n",
    "import pandas as pd\n",
    "mongo_uri = os.getenv(\"MONGO_URI\")\n",
    "client = MongoClient(mongo_uri)\n",
    "database = client.Movie_Recommendation\n",
    "collection = database.CSVData\n",
    "\n",
    "csv_file_path = \"new_dataset.csv\"\n",
    "df = pd.read_csv(csv_file_path)\n",
    "collection.insert_many(df.to_dict('records'))\n",
    "print(f\"Total documents in the collection: {collection.count_documents({})}\")\n",
    "\n",
    "# Close the MongoDB connection\n",
    "client.close()"
   ]
  }
 ],
 "metadata": {
  "language_info": {
   "name": "python"
  }
 },
 "nbformat": 4,
 "nbformat_minor": 2
}
